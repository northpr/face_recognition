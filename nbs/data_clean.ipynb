{
 "cells": [
  {
   "attachments": {},
   "cell_type": "markdown",
   "metadata": {},
   "source": [
    "Source of data if you messed up the data: [Kaggle](https://www.kaggle.com/datasets/hereisburak/pins-face-recognition?datasetId=543939&sortBy=voteCount)"
   ]
  },
  {
   "cell_type": "code",
   "execution_count": 20,
   "metadata": {},
   "outputs": [
    {
     "name": "stdout",
     "output_type": "stream",
     "text": [
      "Progress: 105/105\r"
     ]
    }
   ],
   "source": [
    "import os\n",
    "import re\n",
    "import shutil\n",
    "import random"
   ]
  },
  {
   "cell_type": "code",
   "execution_count": 23,
   "metadata": {},
   "outputs": [
    {
     "name": "stdout",
     "output_type": "stream",
     "text": [
      "Progress: 105/106\r"
     ]
    }
   ],
   "source": [
    "# Function to create new folder not the same as the original\n",
    "# Original folder has something like pin_{name_of_celebrities}, we need this function to make it readable\n",
    "# Source of data is above if you messed up!\n",
    "\n",
    "origin_path = \"../data/imgs_face_original\"\n",
    "to_path = \"../data/imgs_face_clean_original\"\n",
    "\n",
    "def clean_dir(original_dir, clean_dir):\n",
    "    \"\"\"_summary_\n",
    "\n",
    "    Args:\n",
    "        original_dir (_type_): Original Dir with name pin_\n",
    "        clean_dir (_type_): Dir that you want to put all image in\n",
    "\n",
    "    Example:\n",
    "        origin_path = \"../data/imgs_face_original\"\n",
    "        to_path = \"../data/imgs_face_clean_original\"\n",
    "        clean_dir(original_dir=origin_path, clean_dir=to_path)\n",
    "    \"\"\"\n",
    "    if  os.path.exists(clean_dir):\n",
    "        shutil.rmtree(clean_dir)\n",
    "    else: os.makedirs(clean_dir)\n",
    "\n",
    "    total_folders = len(os.listdir(original_dir))\n",
    "    copies_folders = 0\n",
    "\n",
    "    for foldername in os.listdir(original_dir):\n",
    "        if os.path.isdir(os.path.join(original_dir, foldername)):\n",
    "            # copy the folder to `clean_dir`\n",
    "            shutil.copytree(os.path.join(original_dir, foldername), os.path.join(clean_dir, foldername))\n",
    "            new_foldername = re.sub(r\"pins_\",\"\", foldername)\n",
    "            new_foldername = new_foldername.replace(\" \", \"_\")\n",
    "            # rename the folder with the new foldername\n",
    "            os.rename(os.path.join(clean_dir, foldername), os.path.join(clean_dir, new_foldername))\n",
    "            copies_folders += 1\n",
    "            print(f\"Progress: {copies_folders}/{total_folders}\", end=\"\\r\")\n",
    "\n",
    "clean_dir(original_dir=origin_path, clean_dir=to_path)\n"
   ]
  },
  {
   "cell_type": "code",
   "execution_count": 38,
   "metadata": {},
   "outputs": [
    {
     "name": "stdout",
     "output_type": "stream",
     "text": [
      "Progress: 105/106\r"
     ]
    }
   ],
   "source": [
    "import random\n",
    "\n",
    "origin = \"../data/imgs_face_clean/\"\n",
    "model = \"../data/for_model\"\n",
    "\n",
    "def dir_prep_train_test(origin_dir:str, for_model_dir:str, train_size:int=0.8):\n",
    "    \"\"\"To split the images of people in seperate directory to train, test, and valid\n",
    "\n",
    "    Args:\n",
    "        origin_dir (_type_): Directory with image that already have a photo of several people but doesn't split\n",
    "        for_model_dir (_type_): Directory that you want to put the data to train, test, val\n",
    "\n",
    "    Example:\n",
    "        dir_prep_train_test(origin_dir=\"../data/imgs_face_clean/\", for_model_dir=\"../data/for_model\")\n",
    "    \"\"\"\n",
    "\n",
    "\n",
    "    train_dir = for_model_dir + \"/train\"\n",
    "    test_dir = for_model_dir + \"/test\"\n",
    "    val_dir = for_model_dir + \"/val\"\n",
    "\n",
    "\n",
    "    dirs = [train_dir, test_dir, val_dir]\n",
    "    for dir in dirs:\n",
    "        if not os.path.exists(dir):\n",
    "            os.makedirs(dir)\n",
    "    \n",
    "    total_folders = len(os.listdir(origin_dir))\n",
    "    processed_folders = 0\n",
    "\n",
    "    for subdir in os.listdir(origin_dir):\n",
    "        if os.path.isdir(os.path.join(origin_dir, subdir)):\n",
    "            # Get a list of image\n",
    "            images = [f for f in os.listdir(os.path.join(origin_dir, subdir)) if f.endswith(\".jpg\")]\n",
    "            random.shuffle(images)\n",
    "\n",
    "            # Split the images into train and test\n",
    "            test_size = (1-train_size)/2\n",
    "            val_size = (1-train_size)/2\n",
    "            if train_size+test_size+val_size != 1:\n",
    "                print(\"Train ratio not compatible\")\n",
    "            num_train, num_test, num_val = int(len(images)*train_size), int(len(images)*test_size), int(len(images)*val_size)\n",
    "            train_images = images[0:num_train]\n",
    "            test_images = images[num_train:num_train+num_test]\n",
    "            valid_images = images[num_train+num_test:]\n",
    "\n",
    "            # Create the subfolders in train, test, and valid dirs\n",
    "            os.makedirs(os.path.join(train_dir, subdir), exist_ok=True)\n",
    "            os.makedirs(os.path.join(test_dir, subdir), exist_ok=True)\n",
    "            os.makedirs(os.path.join(val_dir, subdir), exist_ok=True)\n",
    "\n",
    "            # Move the images to the subdirs\n",
    "            for image in train_images:\n",
    "                shutil.copy2(os.path.join(origin_dir, subdir, image), os.path.join(train_dir, subdir, image))\n",
    "            for image in test_images:\n",
    "                shutil.copy2(os.path.join(origin_dir, subdir, image), os.path.join(test_dir, subdir, image))\n",
    "            for image in valid_images:\n",
    "                shutil.copy2(os.path.join(origin_dir, subdir, image), os.path.join(val_dir, subdir, image))\n",
    "\n",
    "            processed_folders += 1\n",
    "            print(f\"Progress: {processed_folders}/{total_folders}\", end=\"\\r\")\n",
    "\n",
    "dir_prep_train_test(origin_dir=origin, for_model_dir=model)"
   ]
  },
  {
   "cell_type": "code",
   "execution_count": null,
   "metadata": {},
   "outputs": [],
   "source": []
  }
 ],
 "metadata": {
  "kernelspec": {
   "display_name": "Python 3",
   "language": "python",
   "name": "python3"
  },
  "language_info": {
   "codemirror_mode": {
    "name": "ipython",
    "version": 3
   },
   "file_extension": ".py",
   "mimetype": "text/x-python",
   "name": "python",
   "nbconvert_exporter": "python",
   "pygments_lexer": "ipython3",
   "version": "3.9.6"
  },
  "orig_nbformat": 4,
  "vscode": {
   "interpreter": {
    "hash": "31f2aee4e71d21fbe5cf8b01ff0e069b9275f58929596ceb00d14d90e3e16cd6"
   }
  }
 },
 "nbformat": 4,
 "nbformat_minor": 2
}
